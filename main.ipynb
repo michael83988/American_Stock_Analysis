American Stock Analysis
This project is aimed to get a specific company's financial statements of America from U.S. Securities And Exchange Commission (SEC), including

Consolidated statements of operations (income statements)
Consolidated statements of comprehensive income
Consolidated balance sheet
Consolidated statement of cash flows
Besides getting information about the company's financial statements, some important indicators such as ROA, gross margin, etc, are also calculated and the visualization of them is accomplished subsequently.

Financial statements of the targeted company is obtained from 10-K and 10-Q reports, searched from EDGAR|Company Filings.

Reference:

10-k財報怎麼看？美國財報閱讀入門教學
How to Switch Tabs in Selenium For Python
What is close() and quit() commands in Selenium Webdriver?
Python Stripytime
存金融股真的好嗎？投資人該知道金融股存股的好與壞
從財報、4指標篩優質銀行股
Regular expression operations #functions
Inline XBRL 概念簡介
US GAAP與IFRS

Package used in this module
import requests
from bs4 import BeautifulSoup as BS
from bs4 import NavigableString
import time
from dateutil import parser
import re
from lxml import etree
import numpy as np
import pandas as pd
from selenium import webdriver
from selenium.webdriver.common.by import By
from selenium.webdriver.common.keys import Keys
import seaborn


Functions definition

# For test
target_stock = "APPL"
# target_stock = "TSLA"
# target_stock = "KO"
# target_stock = "JNJ"
# target_stock = "哈哈ㄏ阿"


# Process 1: Get financial statements from SEC.gov
# Visit "EDGAR | Company Filings" of SEC.gov to search for a targeted company
print('Start connecting ...')
browser = webdriver.Edge(r"msedgedriver.exe")    # Start webdriver.exe
time.sleep(np.random.rand() + 2)    # Give 2.0 ~ 3.0 seconds for opening the webdriver.ext

url_search = "https://www.sec.gov/edgar/searchedgar/companysearch"

browser.get(url_search)
time.sleep(np.random.rand() + 2)    # Give 2.0 ~ 3.0 seconds for loading web content from server

# Find input element to enter the target stock abbreviation and press enter
stock_input = browser.find_element(By.ID, "edgar-company-person")
stock_input.send_keys(target_stock)
time.sleep(np.random.rand() + 1)

stock_input.send_keys(Keys.ENTER)
time.sleep(np.random.rand() + 2)    # Hold 2 ~ 3 seconds for loading content from server



# # Find the submit button to search for the result
# submit = browser.find_element(By.CLASS_NAME, "collapsed-submit")

# # Input the stock abbr. and submit
# stock_input.send_keys(target_stock)
# submit.click()


# Click "View all 10-Ks and 10-Qs" button
# If no matching companies is showed, then prompt retry message
find_result_check = BS(browser.page_source, "html.parser").find('div', id='contentDiv')

# if not re.search(r".*No matching companies\..*", find_result_check):
# if not re.search(r".*No matching companies\..*", ):
# if (not browser.find_element(By.XPATH, '//*[@id="contentDiv"]/div')):
if not find_result_check:
    
    
    annual_quarterly_report = browser.find_element(By.XPATH, '//*[@id="filingsStart"]/div[2]/div[3]/h5')
    annual_quarterly_report.click()
    time.sleep(np.random.rand() + 1)    # Wait for 1 ~ 2 seconds
    all_KQs = browser.find_element(By.XPATH, '//*[@id="filingsStart"]/div[2]/div[3]/div/button[1]')
    all_KQs.click()


    # To get 8 quarterly report (including 10-K reports and 10-Q reports), first 8 files needs scanned
    reports = list()  # To store 8 HTMLs of financial statements

    # Get current window handle
    # Because when clicking the linkage of report, new tab will be created. 
    # Need to switch back to the original web page to get another report of different quarter.
    # current_window = browser.current_window_handle
    # print(current_window)

    # Parameters for requests
    user_agent = "Mozilla/5.0 (Windows NT 10.0; Win64; x64) AppleWebKit/537.36 (KHTML, like Gecko) Chrome/110.0.0.0 Safari/537.36"
    headers = {'user-agent': user_agent}


    # Get first 8 10-K or 10-Q reports
    #try:
    # Count the amount of filed reports without duplication (Reporting date must be unique)
    
    # reports_count = 8 if len(browser.find_elements(By.XPATH, '//*[@id="filingsTable"]/tbody/tr')) >= 8 else len(browser.find_elements(By.XPATH, '//*[@id="filingsTable"]/tbody/tr'))
    reports_count = len(browser.find_elements(By.XPATH, '//*[@id="filingsTable"]/tbody/tr'))
    print('reports count: ', reports_count)


    # For test
    # xpath = '//*[@id="filingsTable"]/tbody/tr[1]/td[2]/div/a[1]'
    # report_link = browser.find_element(By.XPATH, xpath)
    # time.sleep(np.random.rand() + 1)
    # report_link.click()
    
    
    # A set to store reporting date
    reporting_date = set()
    
    
    # Open financial statements of search result from SEC.gov
    for i in range(reports_count):
        xpath_date = '//*[@id="filingsTable"]/tbody/tr[' + str(i + 1) + ']/td[4]/a'
        xpath = '//*[@id="filingsTable"]/tbody/tr[' + str(i + 1) + ']/td[2]/div/a[1]'
        check_amendment = re.compile(r"amendment")
        
        # APPL: //*[@id="filingsTable"]/tbody/tr[1]/td[4]/a
        # TSLA: //*[@id="filingsTable"]/tbody/tr[1]/td[4]/a
        #     # Record current window ID for switching between tabs of browser
        #     reports_window = browser.current_window_handle

        # args = (By.XPATH, xpath)
        
        if(len(reporting_date) < 9):
            if(not check_amendment.search(browser.find_element(By.XPATH, xpath).text)):
                reporting_date.add(browser.find_element(By.XPATH, xpath_date).text)
                report_link = browser.find_element(By.XPATH, xpath)
                time.sleep(np.random.rand() + 1.5)
                report_link.click()
                time.sleep(np.random.rand() + 2)
                
            else:
                continue

        
        elif(len(reporting_date) >= 9):
            break
        else:
            print("Something wrong when clicking report link!")
            break




    # Get HTMLs from web tabs
    # Record new tab of window ID, string type
    new_windows = browser.window_handles

    # Get current window handle
    current_window = browser.current_window_handle

    for window in new_windows:
        if(window != current_window):
            browser.switch_to.window(window)
            time.sleep(np.random.rand() + 1.5)
            report = BS(browser.page_source, "html.parser")
            url = browser.current_url
            date_match = re.search(r"-(\d{8})\.htm$", url)
            
            reports.append((report, url, parser.parse(date_match.group(1)) if date_match else None))
            

    
    



    """
    # This section is bulit elsewhere. It will be replaced after the program of this part is completed.
    # Process 2: Extract financial statements from the collected HTMLs
    # Format settings of dataframe
    report_data = []
    report_index = []
    report_column = []

    for report in reports:
        print(type(report))

    # Differnt type of stocks (company and financial industry)
    # Financial industry has no inventories. It's a industry earning money by money! Different measurement needs to be implyed.
    """
    


else:
    print('Execute else statement ...') 
    print('No matching companies. Please try again.')

    
      
# except:
    #print('Can not get 10-K or 10-Q reports from SEC.gov!')
# finally:
#     pass
#     browser.close()
print("End connecting ...")
browser.quit()  # Close the webdriver.exe  



# print(len(reports))
# browser.close()



# Check the report type (10-K or 10-Q)
def check_report_type(soup):
    # print(str(soup))
    test_list = res = soup.find_all("ix:nonnumeric", {"id" : re.compile(r"fact-identifier-\d+")})
    # print(test)
    # test = etree.HTML(str(soup)).xpath('//*[@id="dynamic-xbrl-form"]/div[10]/table/tbody/tr[2]/td[2]/span')[0].text
    
    
    # 片立每個test才能決定是哪個報表!!
    if(any(test.string == "10-Q" for test in test_list)):
        return 'Q'
    elif(any((test.string == "10-K")for test in test_list)):
        return 'K'
    else:
        return "Drop"

    
def transform_to_number(soup):
    number = 0
    if soup:
        # print(soup.text.replace(',', ''))
        number = float(soup.text.replace(',', ''))
        number = number if soup["isnegativesonly"] == "false" else -number
    else:
        number = np.nan
        
        
    return number


# Get data from table
def extract_data(tables, pattern, iscalculationsonly, position):
    
    # table: The source of data
    # pattern: The pattern of "name" tag. Different data have their own patterns
    # iscalculationsonly: Feature to further focus on the targeted tag of data
    # position: The position of the targeted data
    
    temp_list = []
    for table in tables:
        temp_list.extend(table.find_all(name = "ix:nonfraction", attrs = {"name" : re.compile(pattern), "iscalculationsonly" : re.compile(iscalculationsonly)}))

        
    data_tag = sorted(temp_list, key = lambda x : int(re.search(r"\d+", x.get("id")).group(0)))[position] if len(temp_list) > 0 else None
    data = transform_to_number(data_tag)
    temp_list.clear()
#     table.clear()
    return data


Find common portion of financial reports from SEC.gov
For non-financial industry
CONSOLIDATED STATEMENTS OF INCOME (from coca cola, 10-Q/1)

CONSOLIDATED BALANCE SHEETS (from coca cola, 10-Q/1)

CONSOLIDATED STATEMENTS OF CASH FLOWS (from coca cola, 10-Q/1)

CONSOLIDATED STATEMENTS OF INCOME (from coca cola, 10-Q/3)

CONDENSED CONSOLIDATED STATEMENTS OF OPERATIONS (Unaudited) (from Apple, 10-Q/1)

CONDENSED CONSOLIDATED BALANCE SHEETS (Unaudited) (from Apple, 10-Q/1)

CONDENSED CONSOLIDATED STATEMENTS OF CASH FLOWS (Unaudited) (from Apple, 10-Q/1)

Consolidated Balance Sheets (from Tesla, 10-Q/1)

Consolidated Balance Sheets (from Tesla, 10-K/2021)

Consolidated Statements of Operations (from Tesla, 10-Q/1)

Consolidated Statements of Cash Flows (from Tesla, 10-Q/1)

Looks like there are some common titles in different company's financial statements (regardless of upper-case or lower-case)

Get the report's date:

In ix:nonnumeric tag. But different format were found! (All in the tag or nested in tag). No format could be found!!
Get reporting date from url!! -> OK
Find table of three main financial statements:

After found the place of targeted title, find the nearest table. It might be the targeted table.
Pattern of three basic financial statements :
CONSOLIDATED STATEMENTS OF INCOME (or Consolidated Statements of Operations):

10-Q
First column after title column is needed (exact earning/loss monetary value of the specific quarter)
First $: First monetary value appears
Second $: Net income
No fixed position of each items
Check ix tag properties: nonfraction(accounting items), name(prefix = us-gaap, term in this property can be referenced), isnegativesonly(determine the number is +/-), iscalculationsonly(true: wanted for calculation)
How to get the data of corrected date? Using name & iscalculationsonly & isnegativesonly to find a list of numbers, then sort it by id. Smaller one cprresponds to the newer date of data.
10-K
Same as analysis of 10-Q reports!
Other two basic financial statements have same pattern!

Items wanted to be calculated:

Quarter date (as columns)
Assets
Inventory
Liabilities
Total stockholder's equity
Earning per share basic/diluted
Revenue
Gross profit
Earning before provision for taxes on income
Net income (Income after taxes)
Comprehensive income net of tax (net income + other comprehensive income)
Net cash provided by operating activities
Net cash used in investing activities
Net cash used in financing activities


# For executing this module first time, please execute the above program first, then "reports" are obtained.
# Build program of section 2 -> OK!
# Extract data from reports



# Sort reports by its date, also filter out unwanted reports
reporst_filtered = filter(lambda report : report[2] is not None, reports)
reports_sorted = sorted(reporst_filtered, key = lambda report : report[2])


# for report in reports_sorted:
#     print(report[1])  # url, string
#     print(report[2])  # Date object
#     print(check_report_type(report[0]))  #report[0]: BS object

    
    
# In case that financial statement may be divided into two tables, all the eligible title spans need to be founded
# Find table for "Consolidated statements of operations (incomes)"
table_operations = []
for report in reports_sorted:
    title_regex = re.compile("[oO][nN][sS][oO][lL][iI][dD][aA][tT][eE][dD] [sS][tT][aA][tT][eE][mM][eE][nN][tT][sS] [oO][fF] [oO][pP][eE][rR][aA][tT][iI][oO][nN][sS]|[oO][nN][sS[sS][oO][lL][iI][dD][aA][tT][eE][dD] [sS][tT][aA][tT][eE][mM][eE][nN][tT][sS] [oO][fF] [iI][nN][cC][oO][mM][eE]|[oO][nN][sS[sS][oO][lL][iI][dD][aA][tT][eE][dD] [sS][tT][aA][tT][eE][mM][eE][nN][tT][sS] [oO][fF] [eE][aA][rR][nN][iI][nN][gG][sS]")
    # title_span = report[0].find("span", text = title_regex)
    title_spans = report[0].find_all(lambda tag : tag.name == "span" and title_regex.search(tag.text) and type(tag.contents[0]) is NavigableString)
    
    tables = [title_span.findNext("table") for title_span in title_spans] # No matter the element is nested or not, just find the conformed element sequentially
    table_operations.append((title_spans, tables, report[2]))  
    
    

# print(table_operations[7][1])


# Find table for "Consolidated statements of comprehensive income"
table_comprehensive_income = []
for report in reports_sorted:
    title_regex = re.compile("[oO][nN][sS][oO][lL][iI][dD][aA][tT][eE][dD] [sS][tT][aA][tT][eE][mM][eE][nN][tT][sS] [oO][fF] [cC][oO][mM][pP][rR][eE][hH][eE][nN][sS][iI][vV][eE] [iI][nN][cC][oO][mM][eE]")
    # title_span = report[0].find("span", text = title_regex)
    title_spans = report[0].find_all(lambda tag : tag.name == "span" and title_regex.search(tag.text) and type(tag.contents[0]) is NavigableString)
    
    tables = [title_span.findNext("table") for title_span in title_spans] # No matter the element is nested or not, just find the conformed element sequentially
    table_comprehensive_income.append((title_spans, tables, report[2]))  
    
    

# print(table_comprehensive_income[7][1])


# Find table for "Consolidated balance sheets"
table_balances = []
for report in reports_sorted:
    title_regex = re.compile("[cC][oO][nN][sS][oO][lL][iI][dD][aA][tT][eE][dD] [bB][aA][lL][aA][nN][cC][eE] [sS][hH][eE][eE][tT][sS]")
    # title_span = report[0].find("span", text = title_regex)
    title_spans = report[0].find_all(lambda tag : tag.name == "span" and title_regex.search(tag.text) and type(tag.contents[0]) is NavigableString)
    
    
    tables = [title_span.findNext("table") for title_span in title_spans]  # No matter the element is nested or not, just find the conformed element sequentially
    table_balances.append((title_spans, tables, report[2]))  


# print(table_balances[2][1])



# Find table of "Consolidated statements of cash flows"
table_cashflows = []
for report in reports_sorted:
    title_regex = re.compile("[oO][nN][sS][oO][lL][iI][dD][aA][tT][eE][dD] [sS][tT][aA][tT][eE][mM][eE][nN][tT][sS] [oO][fF] [cC][aA][sS][hH] [fF][lL][oO][wW][sS]")
    # title_span = report[0].find("span", text = title_regex)
    title_spans = report[0].find_all(lambda tag : tag.name == "span" and title_regex.search(tag.text) and type(tag.contents[0]) is NavigableString)
    
    
    tables = [title_span.findNext("table") for title_span in title_spans]  # No matter the element is nested or not, just find the conformed element sequentially
    table_cashflows.append((title_spans, tables, report[2]))  


# print(table_cashflows[2][1])



# Extract the targeted data from the above tables, quarter by quarter
# Settings of pandas's dataframe
result_data = [[0] * 8 for _ in range(14)]
result_columns = []  # Quarter date
result_index = ["Assets", "Inventories", "Liabilities", "Total stockholder's equity", "Earning per share basic", "Earning per share diluted",
             "Revenue", "Gross profit", "Earning before provision for taxes on income", "Net income", "Comprehensive income net of tax",
             "Net cash from operating activities", "Net cash from investing activities", "Net cash from financing activities"]

# print(len(reports_sorted))



# Extract data from the above tables version 1
"""
for i in range(1, 9):
    if(check_report_type(reports_sorted[i][0]) == "Q"):
        #print(str(reports_sorted[i][2].date()) + " 10-Q")
        
        
        # Add quarter date
        result_columns.append(reports_sorted[i][2].date())
        

        # Get assets
        result_data[0][i - 1] = extract_data(table_balances[i][1], r"^us-gaap:Assets$", "true", 0)
        
        
        # Get inventories
        result_data[1][i - 1] = extract_data(table_balances[i][1], r"^us-gaap:InventoryNet$", "true", 0)
        
        
        # Get liabilities (May need to be calculated!)
        result_data[2][i - 1] = extract_data(table_balances[i][1], r"^us-gaap:Liabilities$", "true", 0)
             
        
        
        # Get total stockholder's equity (May need to be calculated!)
        result_data[3][i - 1] = extract_data(table_balances[i][1], r"^us-gaap:StockholdersEquity$", "true", 0)
         
        
        # Calculate liabilities or stockholder's equity
        for j in range(8):
            if(not np.isnan(result_data[0][j]) and np.isnan(result_data[2][j]) and not np.isnan(result_data[3][j])):
                result_data[2][j] = result_data[0][j] - result_data[3][j]
            elif(not np.isnan(result_data[0][j]) and not np.isnan(result_data[2][j]) and np.isnan(result_data[3][j])):
                result_data[3][j] = result_data[0][j] - result_data[2][j]
            else:
                pass
        
        
        # Get EPS (basic)
        result_data[4][i - 1] = extract_data(table_operations[i][1], r"^us-gaap:EarningsPerShareBasic$", "false", 0)
        
        # Get EPS (diluted)
        result_data[5][i - 1] = extract_data(table_operations[i][1], r"^us-gaap:EarningsPerShareDiluted$", "false", 0)
        
  
        # Get revenues
        result_data[6][i - 1] = extract_data(table_operations[i][1], r"^us-gaap:Revenues", "true", 0)

        
        
        # Get gross profit
        result_data[7][i - 1] = extract_data(table_operations[i][1], r"^us-gaap:GrossProfit$", "true", 0)
        
        # Get Income before provision for income taxes
        result_data[8][i - 1] = extract_data(table_operations[i][1], r"^us-gaap:IncomeLossFromContinuingOperationsBeforeIncomeTaxesExtraordinaryItemsNoncontrollingInterest$", "true", 0)

        
        # Get net income
        result_data[9][i - 1] = extract_data(table_operations[i][1], r"^us-gaap:NetIncomeLoss$", "true", 0)
        
        
        # Get comprehensive income net of tax
        result_data[10][i - 1] = extract_data(table_comprehensive_income[i][1], r"^us-gaap:ComprehensiveIncomeNetOfTax$", "true", 0)
        
    elif(check_report_type(reports_sorted[i][0]) == "K"):
        #print(str(reports_sorted[i][2].date()) + " 10-K")
        
        result_columns.append(reports_sorted[i][2].date())
        
        
        # Get assets
        result_data[0][i - 1] = extract_data(table_balances[i][1], r"^us-gaap:Assets$", "true", 0)
        
        
        # Get inventories
        result_data[1][i - 1] = extract_data(table_balances[i][1], r"^us-gaap:InventoryNet$", "true", 0)      
        
        
        # Get liabilities (May need to be calculated!)
        result_data[2][i - 1] = extract_data(table_balances[i][1], r"^us-gaap:Liabilities$", "true", 0)
        

        
        
        
        # Get total stockholder's equity (May need to be calculated!)
        result_data[3][i - 1] = extract_data(table_balances[i][1], r"^us-gaap:StockholdersEquity$", "true", 0)
        

        
        
        # Calculate liabilities or stockholder's equity
        for j in range(8):
            if(not np.isnan(result_data[0][j]) and np.isnan(result_data[2][j]) and not np.isnan(result_data[3][j])):
                result_data[2][j] = result_data[0][j] - result_data[3][j]
            elif(not np.isnan(result_data[0][j]) and not np.isnan(result_data[2][j]) and np.isnan(result_data[3][j])):
                result_data[3][j] = result_data[0][j] - result_data[2][j]
            else:
                pass
        
        
        
        # Get EPS (basic)
        result_data[4][i - 1] = extract_data(table_operations[i][1], r"^us-gaap:EarningsPerShareBasic$", "false", 0)
        

        
        
        # Get EPS (diluted)
        result_data[5][i - 1] = extract_data(table_operations[i][1], r"^us-gaap:EarningsPerShareDiluted$", "false", 0)
        
        
        
        # Get revenues (Need to get data from the previous quarter report, then calculate it)
        # 1. Get nine months accumulated data
        previous_revenues = extract_data(table_operations[i - 1][1], r"^us-gaap:Revenues", "true", 2)
        
        
        # 2. Get revenues of whole fiscal year
        year_revenues = extract_data(table_operations[i][1], r"^us-gaap:Revenues", "true", 0)
        
        # 3. Calculate revenue from the above values
        revenues = year_revenues - previous_revenues
        result_data[6][i - 1] = revenues
        
        
        # Get gross profit (Need to get data from the previous quarter report, then calculate it)
        previous_gross_profit = extract_data(table_operations[i - 1][1], r"^us-gaap:GrossProfit$", "true", 2)
        year_gross_profit = extract_data(table_operations[i][1], r"^us-gaap:GrossProfit$", "true", 0)
        gross_profit = year_gross_profit - previous_gross_profit
        result_data[7][i - 1] = gross_profit
        
        # Get Income before provision for income taxes
        previous_income_before_tax = extract_data(table_operations[i - 1][1], r"^us-gaap:IncomeLossFromContinuingOperationsBeforeIncomeTaxesExtraordinaryItemsNoncontrollingInterest$", "true", 2)
        year_income_before_tax = extract_data(table_operations[i][1], r"^us-gaap:IncomeLossFromContinuingOperationsBeforeIncomeTaxesExtraordinaryItemsNoncontrollingInterest$", "true", 0)
        income_before_tax = year_income_before_tax - previous_income_before_tax
        result_data[8][i - 1] = income_before_tax
        
        
        # Get net income
        previous_income = extract_data(table_operations[i - 1][1], r"^us-gaap:NetIncomeLoss$", "true", 2)
        year_income = extract_data(table_operations[i][1], r"^us-gaap:NetIncomeLoss$", "true", 0)
        income = year_income - previous_income
        result_data[9][i - 1] = income
        
        
        # Get comprehensive income net of tax
        previous_comprehensive_income = extract_data(table_comprehensive_income[i - 1][1], r"^us-gaap:ComprehensiveIncomeNetOfTax$", "true", 2)
        year_comprehensive_income = extract_data(table_comprehensive_income[i][1], r"^us-gaap:ComprehensiveIncomeNetOfTax$", "true", 0)
        comprehensive_income = year_comprehensive_income - previous_comprehensive_income
        result_data[10][i - 1] = comprehensive_income
        
        
    else:
        print("Something wrong after filtering and sorting")

"""


# Extract data from the above tables version 2
for i in range(1, 9):
    # Add quarter date
        result_columns.append(reports_sorted[i][2].date())
        

        # Get assets
        result_data[0][i - 1] = extract_data(table_balances[i][1], r"^us-gaap:Assets$", "true", 0)
        
        
        # Get inventories
        result_data[1][i - 1] = extract_data(table_balances[i][1], r"^us-gaap:InventoryNet$", "true", 0)
        
        
        # Get liabilities (May need to be calculated!)
        result_data[2][i - 1] = extract_data(table_balances[i][1], r"^us-gaap:Liabilities$", "true", 0)
             
        
        
        # Get total stockholder's equity (May need to be calculated!)
        result_data[3][i - 1] = extract_data(table_balances[i][1], r"^us-gaap:StockholdersEquity$", "true", 0)
         
        
        # Calculate liabilities or stockholder's equity
        for j in range(8):
            if(not np.isnan(result_data[0][j]) and np.isnan(result_data[2][j]) and not np.isnan(result_data[3][j])):
                result_data[2][j] = result_data[0][j] - result_data[3][j]
            elif(not np.isnan(result_data[0][j]) and not np.isnan(result_data[2][j]) and np.isnan(result_data[3][j])):
                result_data[3][j] = result_data[0][j] - result_data[2][j]
            else:
                pass
        
        
        # Get EPS (basic)
        result_data[4][i - 1] = extract_data(table_operations[i][1], r"^us-gaap:EarningsPerShareBasic$", "false|true", 0)
        
        # Get EPS (diluted)
        result_data[5][i - 1] = extract_data(table_operations[i][1], r"^us-gaap:EarningsPerShareDiluted$", "false|true", 0)

        
        # Difference between 10-K and 10-Q reports
        if(check_report_type(reports_sorted[i][0]) == "Q"):
            # Get revenues
            result_data[6][i - 1] = extract_data(table_operations[i][1], r"^us-gaap:Revenue", "true", 0)



            # Get gross profit
            result_data[7][i - 1] = extract_data(table_operations[i][1], r"^us-gaap:GrossProfit$", "true", 0)

            # Get Income before provision for income taxes
            result_data[8][i - 1] = extract_data(table_operations[i][1], r"^us-gaap:IncomeLossFromContinuingOperationsBeforeIncomeTaxesExtraordinaryItemsNoncontrollingInterest$", "true", 0)


            # Get net income
            result_data[9][i - 1] = extract_data(table_operations[i][1], r"^us-gaap:NetIncomeLoss$", "true", 0)


            # Get comprehensive income net of tax
            result_data[10][i - 1] = extract_data(table_comprehensive_income[i][1], r"^us-gaap:ComprehensiveIncomeNetOfTax", "true", 0)
        
        elif(check_report_type(reports_sorted[i][0]) == "K"):
            
            # Get revenues (Need to get data from the previous quarter report, then calculate it)
            # 1. Get nine months accumulated data
            previous_revenues = extract_data(table_operations[i - 1][1], r"^us-gaap:Revenue", "true", 2)


            # 2. Get revenues of whole fiscal year
            year_revenues = extract_data(table_operations[i][1], r"^us-gaap:Revenue", "true", 0)

            # 3. Calculate revenue from the above values
            revenues = year_revenues - previous_revenues
            result_data[6][i - 1] = revenues


            # Get gross profit (Need to get data from the previous quarter report, then calculate it)
            previous_gross_profit = extract_data(table_operations[i - 1][1], r"^us-gaap:GrossProfit$", "true", 2)
            year_gross_profit = extract_data(table_operations[i][1], r"^us-gaap:GrossProfit$", "true", 0)
            gross_profit = year_gross_profit - previous_gross_profit
            result_data[7][i - 1] = gross_profit

            # Get Income before provision for income taxes
            previous_income_before_tax = extract_data(table_operations[i - 1][1], r"^us-gaap:IncomeLossFromContinuingOperationsBeforeIncomeTaxesExtraordinaryItemsNoncontrollingInterest$", "true", 2)
            year_income_before_tax = extract_data(table_operations[i][1], r"^us-gaap:IncomeLossFromContinuingOperationsBeforeIncomeTaxesExtraordinaryItemsNoncontrollingInterest$", "true", 0)
            income_before_tax = year_income_before_tax - previous_income_before_tax
            result_data[8][i - 1] = income_before_tax


            # Get net income
            previous_income = extract_data(table_operations[i - 1][1], r"^us-gaap:NetIncomeLoss$", "true", 2)
            year_income = extract_data(table_operations[i][1], r"^us-gaap:NetIncomeLoss$", "true", 0)
            income = year_income - previous_income
            result_data[9][i - 1] = income


            # Get comprehensive income net of tax
            previous_comprehensive_income = extract_data(table_comprehensive_income[i - 1][1], r"^us-gaap:ComprehensiveIncomeNetOfTax$", "true", 2)
            year_comprehensive_income = extract_data(table_comprehensive_income[i][1], r"^us-gaap:ComprehensiveIncomeNetOfTax", "true", 0)
            comprehensive_income = year_comprehensive_income - previous_comprehensive_income
            result_data[10][i - 1] = comprehensive_income
        
        else:
            print("Something wrong after filtering and sorting")
            
        
        
        # Get net cash provided by operating activities 
        # No information of cash flow in current quarter period! Only accululated value is provided!
        # Need some calculation to get cash flow in the quarter period
        if(check_report_type(reports_sorted[i - 1][0]) == "K"):
            result_data[11][i - 1] = extract_data(table_cashflows[i][1], r"^us-gaap:NetCashProvidedByUsedInOperatingActivities$", "true", 0)
        
        elif(check_report_type(reports_sorted[i - 1][0]) == "Q"):
            current_cash_flow_operating = extract_data(table_cashflows[i][1], r"^us-gaap:NetCashProvidedByUsedInOperatingActivities$", "true", 0)
            previous_cash_flow_operating = extract_data(table_cashflows[i - 1][1], r"^us-gaap:NetCashProvidedByUsedInOperatingActivities$", "true", 0)
            cash_flow_operating = current_cash_flow_operating - previous_cash_flow_operating
            result_data[11][i - 1] = cash_flow_operating
        else:
            print("Something wrong when extracting data of cash flows")
         
        
        
        # Get net cash provided by investing activities 
        # No information of cash flow in current quarter period! Only accululated value is provided!
        # Need some calculation to get cash flow in the quarter period
        if(check_report_type(reports_sorted[i - 1][0]) == "K"):
            result_data[12][i - 1] = extract_data(table_cashflows[i][1], r"^us-gaap:NetCashProvidedByUsedInInvestingActivities$", "true", 0)
        
        
        elif(check_report_type(reports_sorted[i - 1][0]) == "Q"):
            current_cash_flow_investing = extract_data(table_cashflows[i][1], r"^us-gaap:NetCashProvidedByUsedInInvestingActivities$", "true", 0)
            previous_cash_flow_investing = extract_data(table_cashflows[i - 1][1], r"^us-gaap:NetCashProvidedByUsedInInvestingActivities$", "true", 0)
            cash_flow_investing = current_cash_flow_investing - previous_cash_flow_investing
            result_data[12][i - 1] = cash_flow_investing
        else:
            print("Something wrong when extracting data of cash flows")
            
        
        
        
        # Get net cash provided by financing activities 
        # No information of cash flow in current quarter period! Only accululated value is provided!
        # Need some calculation to get cash flow in the quarter period
        if(check_report_type(reports_sorted[i - 1][0]) == "K"):
            result_data[13][i - 1] = extract_data(table_cashflows[i][1], r"^us-gaap:NetCashProvidedByUsedInFinancingActivities$", "true", 0)
        
        elif(check_report_type(reports_sorted[i - 1][0]) == "Q"):
            current_cash_flow_financing = extract_data(table_cashflows[i][1], r"^us-gaap:NetCashProvidedByUsedInFinancingActivities$", "true", 0)
            previous_cash_flow_financing = extract_data(table_cashflows[i - 1][1], r"^us-gaap:NetCashProvidedByUsedInFinancingActivities$", "true", 0)
            cash_flow_financing = current_cash_flow_financing - previous_cash_flow_financing
            result_data[13][i - 1] = cash_flow_financing
        else:
            print("Something wrong when extracting data of cash flows")
        
                                                  
        
        
        # Calculate some important indicator based on the gotten data
        
                                                  
result = pd.DataFrame(data = result_data, index = result_index, columns = result_columns)
display(result)

# Deprecated below!
# Read "CONDENSED CONSOLIDATED STATEMENTS OF OPERATIONS (Unaudited)"
# table_name = "CONDENSED CONSOLIDATED STATEMENTS OF OPERATIONS (Unaudited)"

# result = reports[0].find('div', string = table_name).findNext('div').findNext('div').findNext('div').findNext('table')
# print(result)
# display(pd.DataFrame(result, dtype = "object"))  # Very uglyand wrong!!


# report_df = pd.read_html(str(reports[0].find('div', string = table_name).findNext('div').findNext('div').findNext('div').findNext('table')))
# display(pd.DataFrame(report_df))

# check_report_type(reports[1])




Visualization of financial statements
After gotten data from SEC.gov, let's plot them by seaborn!


# Section 3: Plot 4 figures using seaborn package according to the above dataframe
